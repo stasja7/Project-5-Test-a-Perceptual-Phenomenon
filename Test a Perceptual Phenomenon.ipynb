{
 "cells": [
  {
   "cell_type": "markdown",
   "metadata": {},
   "source": [
    "### Analyzing the Stroop Effect\n",
    "Perform the analysis in the space below. Remember to follow [the instructions](https://docs.google.com/document/d/1-OkpZLjG_kX9J6LIQ5IltsqMzVWjh36QpnP2RYpVdPU/pub?embedded=True) and review the [project rubric](https://review.udacity.com/#!/rubrics/71/view) before submitting.\n",
    "\n",
    "\n",
    "(1) What is the independent variable? What is the dependent variable?"
   ]
  },
  {
   "cell_type": "markdown",
   "metadata": {},
   "source": [
    "Time is the dependent variable, while \"Congruent,\" \"Incongruent\" are independent variables. "
   ]
  },
  {
   "cell_type": "markdown",
   "metadata": {},
   "source": [
    "(2) What is an appropriate set of hypotheses for this task? Specify your null and alternative hypotheses, and clearly define any notation used. Justify your choices."
   ]
  },
  {
   "cell_type": "markdown",
   "metadata": {},
   "source": [
    "$H_0$ = null hypothesis <br>\n",
    "$H_1$ = alternate hypothesis\n",
    "\n",
    "$\\mu_{c}$ = mean of congruent <br>\n",
    "$\\mu_{ic}$ = mean of incongruent\n",
    "\n",
    "$H_0: $ $\\mu_{c}$ $=$ $\\mu_{ic}$ (Mean of congruent words is equal to the mean of incongruent, no differance in the performance of two samples) <br>\n",
    "$H_1: $ $\\mu_{c}$ $\\neq$ $\\mu_{ic}$ (Mean of congruent words is not equal to the mean of incongruent, there is a differance in performance of two samples)\n",
    "\n",
    "Because there is a differance before and post-experiment and because we have the same group we will use a dependant paired t-test for the two samples.\n"
   ]
  },
  {
   "cell_type": "markdown",
   "metadata": {},
   "source": [
    "(3) Report some descriptive statistics regarding this dataset. Include at least one measure of central tendency and at least one measure of variability. The name of the data file is 'stroopdata.csv'."
   ]
  },
  {
   "cell_type": "code",
   "execution_count": 1,
   "metadata": {},
   "outputs": [],
   "source": [
    "import pandas as pd\n",
    "import numpy as np\n",
    "import seaborn as sns\n",
    "from scipy import stats\n",
    "import matplotlib.pyplot as plt\n",
    "%matplotlib inline\n",
    "import warnings \n",
    "warnings.filterwarnings('ignore')"
   ]
  },
  {
   "cell_type": "code",
   "execution_count": 3,
   "metadata": {},
   "outputs": [],
   "source": [
    "df = pd.read_csv('stroopdata.csv')"
   ]
  },
  {
   "cell_type": "code",
   "execution_count": 4,
   "metadata": {},
   "outputs": [
    {
     "name": "stdout",
     "output_type": "stream",
     "text": [
      "<class 'pandas.core.frame.DataFrame'>\n",
      "RangeIndex: 24 entries, 0 to 23\n",
      "Data columns (total 2 columns):\n",
      "Congruent      24 non-null float64\n",
      "Incongruent    24 non-null float64\n",
      "dtypes: float64(2)\n",
      "memory usage: 464.0 bytes\n"
     ]
    }
   ],
   "source": [
    "df.info()"
   ]
  },
  {
   "cell_type": "code",
   "execution_count": 5,
   "metadata": {},
   "outputs": [
    {
     "data": {
      "text/html": [
       "<div>\n",
       "<style scoped>\n",
       "    .dataframe tbody tr th:only-of-type {\n",
       "        vertical-align: middle;\n",
       "    }\n",
       "\n",
       "    .dataframe tbody tr th {\n",
       "        vertical-align: top;\n",
       "    }\n",
       "\n",
       "    .dataframe thead th {\n",
       "        text-align: right;\n",
       "    }\n",
       "</style>\n",
       "<table border=\"1\" class=\"dataframe\">\n",
       "  <thead>\n",
       "    <tr style=\"text-align: right;\">\n",
       "      <th></th>\n",
       "      <th>Congruent</th>\n",
       "      <th>Incongruent</th>\n",
       "    </tr>\n",
       "  </thead>\n",
       "  <tbody>\n",
       "    <tr>\n",
       "      <th>count</th>\n",
       "      <td>24.000000</td>\n",
       "      <td>24.000000</td>\n",
       "    </tr>\n",
       "    <tr>\n",
       "      <th>mean</th>\n",
       "      <td>14.051125</td>\n",
       "      <td>22.015917</td>\n",
       "    </tr>\n",
       "    <tr>\n",
       "      <th>std</th>\n",
       "      <td>3.559358</td>\n",
       "      <td>4.797057</td>\n",
       "    </tr>\n",
       "    <tr>\n",
       "      <th>min</th>\n",
       "      <td>8.630000</td>\n",
       "      <td>15.687000</td>\n",
       "    </tr>\n",
       "    <tr>\n",
       "      <th>25%</th>\n",
       "      <td>11.895250</td>\n",
       "      <td>18.716750</td>\n",
       "    </tr>\n",
       "    <tr>\n",
       "      <th>50%</th>\n",
       "      <td>14.356500</td>\n",
       "      <td>21.017500</td>\n",
       "    </tr>\n",
       "    <tr>\n",
       "      <th>75%</th>\n",
       "      <td>16.200750</td>\n",
       "      <td>24.051500</td>\n",
       "    </tr>\n",
       "    <tr>\n",
       "      <th>max</th>\n",
       "      <td>22.328000</td>\n",
       "      <td>35.255000</td>\n",
       "    </tr>\n",
       "  </tbody>\n",
       "</table>\n",
       "</div>"
      ],
      "text/plain": [
       "       Congruent  Incongruent\n",
       "count  24.000000    24.000000\n",
       "mean   14.051125    22.015917\n",
       "std     3.559358     4.797057\n",
       "min     8.630000    15.687000\n",
       "25%    11.895250    18.716750\n",
       "50%    14.356500    21.017500\n",
       "75%    16.200750    24.051500\n",
       "max    22.328000    35.255000"
      ]
     },
     "execution_count": 5,
     "metadata": {},
     "output_type": "execute_result"
    }
   ],
   "source": [
    "df.describe()"
   ]
  },
  {
   "cell_type": "markdown",
   "metadata": {},
   "source": [
    "For \"Congruent,\" the mean=14.05 and the std=3.56, while for \"Incongruent,\" the mean=22.02 and the std=4.80. From this we can observe that there is a diffence in means, but a statistical test is required for validation."
   ]
  },
  {
   "cell_type": "markdown",
   "metadata": {},
   "source": [
    "(4) Provide one or two visualizations that show the distribution of the sample data. Write one or two sentences noting what you observe about the plot or plots."
   ]
  },
  {
   "cell_type": "code",
   "execution_count": 11,
   "metadata": {},
   "outputs": [
    {
     "data": {
      "image/png": "[encoded data removed]",
      "text/plain": [
       "<matplotlib.figure.Figure at 0x7f54a883c438>"
      ]
     },
     "metadata": {
      "needs_background": "light"
     },
     "output_type": "display_data"
    }
   ],
   "source": [
    "pairplot = sns.pairplot(df)\n",
    "pairplot.fig.suptitle('Distribution of Congruent and Incongruent Variables', size=12)\n",
    "pairplot.fig.subplots_adjust(top=.9)\n",
    "#https://stackoverflow.com/questions/28638158/seaborn-facetgrid-how-to-leave-proper-space-on-top-for-suptitle"
   ]
  },
  {
   "cell_type": "code",
   "execution_count": 8,
   "metadata": {},
   "outputs": [
    {
     "data": {
      "text/plain": [
       "<matplotlib.axes._subplots.AxesSubplot at 0x7f54a8942f60>"
      ]
     },
     "execution_count": 8,
     "metadata": {},
     "output_type": "execute_result"
    },
    {
     "data": {
      "image/png": "[encoded data removed]",
      "text/plain": [
       "<matplotlib.figure.Figure at 0x7f54a8929470>"
      ]
     },
     "metadata": {
      "needs_background": "light"
     },
     "output_type": "display_data"
    }
   ],
   "source": [
    "df[['Congruent','Incongruent']].plot(kind='box')"
   ]
  },
  {
   "cell_type": "code",
   "execution_count": 13,
   "metadata": {},
   "outputs": [
    {
     "data": {
      "text/plain": [
       "((array([-1.90380091, -1.48287381, -1.22601535, -1.03156092, -0.8698858 ,\n",
       "         -0.7282709 , -0.59996024, -0.48085763, -0.36822879, -0.26009875,\n",
       "         -0.154935  , -0.05146182,  0.05146182,  0.154935  ,  0.26009875,\n",
       "          0.36822879,  0.48085763,  0.59996024,  0.7282709 ,  0.8698858 ,\n",
       "          1.03156092,  1.22601535,  1.48287381,  1.90380091]),\n",
       "  array([  8.63 ,   8.987,   9.401,   9.564,  10.639,  11.344,  12.079,\n",
       "          12.13 ,  12.238,  12.369,  12.944,  14.233,  14.48 ,  14.669,\n",
       "          14.692,  15.073,  15.298,  16.004,  16.791,  16.929,  18.2  ,\n",
       "          18.495,  19.71 ,  22.328])),\n",
       " (3.6805237082632325, 14.051124999999999, 0.98800235955534976))"
      ]
     },
     "execution_count": 13,
     "metadata": {},
     "output_type": "execute_result"
    },
    {
     "data": {
      "image/png": "[encoded data removed]",
      "text/plain": [
       "<matplotlib.figure.Figure at 0x7f54a85ff240>"
      ]
     },
     "metadata": {
      "needs_background": "light"
     },
     "output_type": "display_data"
    }
   ],
   "source": [
    "stats.probplot(df['Congruent'], plot= plt)"
   ]
  },
  {
   "cell_type": "code",
   "execution_count": 15,
   "metadata": {},
   "outputs": [
    {
     "data": {
      "text/plain": [
       "((array([-1.90380091, -1.48287381, -1.22601535, -1.03156092, -0.8698858 ,\n",
       "         -0.7282709 , -0.59996024, -0.48085763, -0.36822879, -0.26009875,\n",
       "         -0.154935  , -0.05146182,  0.05146182,  0.154935  ,  0.26009875,\n",
       "          0.36822879,  0.48085763,  0.59996024,  0.7282709 ,  0.8698858 ,\n",
       "          1.03156092,  1.22601535,  1.48287381,  1.90380091]),\n",
       "  array([ 15.687,  17.394,  17.425,  17.51 ,  17.96 ,  18.644,  18.741,\n",
       "          19.278,  20.33 ,  20.429,  20.762,  20.878,  21.157,  21.214,\n",
       "          22.058,  22.158,  22.803,  23.894,  24.524,  24.572,  25.139,\n",
       "          26.282,  34.288,  35.255])),\n",
       " (4.6212893156122012, 22.015916666666669, 0.92046715643061794))"
      ]
     },
     "execution_count": 15,
     "metadata": {},
     "output_type": "execute_result"
    },
    {
     "data": {
      "image/png": "[encoded data removed]",
      "text/plain": [
       "<matplotlib.figure.Figure at 0x7f54a83d7978>"
      ]
     },
     "metadata": {
      "needs_background": "light"
     },
     "output_type": "display_data"
    }
   ],
   "source": [
    "stats.probplot(df['Incongruent'], plot= plt)"
   ]
  },
  {
   "cell_type": "markdown",
   "metadata": {},
   "source": [
    "To proceed with the t-test, the distribution should be close to normal and there should not be any significant outliers. The distributions somewhat resemble a normal distribution in the histograms, for \"Incongruent,\" there are a couple of outliers. But, overall, especially with the probability plot its possible to see that there are no significant deviations."
   ]
  },
  {
   "cell_type": "markdown",
   "metadata": {},
   "source": [
    "(5)  Now, perform the statistical test and report your results. What is your confidence level or Type I error associated with your test? What is your conclusion regarding the hypotheses you set up? Did the results match up with your expectations? **Hint:**  Think about what is being measured on each individual, and what statistic best captures how an individual reacts in each environment."
   ]
  },
  {
   "cell_type": "code",
   "execution_count": 9,
   "metadata": {},
   "outputs": [
    {
     "data": {
      "text/plain": [
       "Ttest_relResult(statistic=-8.020706944109957, pvalue=4.1030005857111781e-08)"
      ]
     },
     "execution_count": 9,
     "metadata": {},
     "output_type": "execute_result"
    }
   ],
   "source": [
    "stats.ttest_rel(df['Congruent'],df['Incongruent']) "
   ]
  },
  {
   "cell_type": "markdown",
   "metadata": {},
   "source": [
    "df=24-1=23 <br>\n",
    "At a 95% confedence interval and df=23, the t-critical is 2.069. Because the absolute value of the t-value is greater than the critical, I reject the null hypothesis, therefore there is a differance in performance. This fits with my expectation that it is more difficult to read the \"Incongruent\" words and the result will not be the same as for \"Congruent.\"\n"
   ]
  },
  {
   "cell_type": "markdown",
   "metadata": {},
   "source": [
    "##### References used:\n",
    "\n",
    "- http://blog.minitab.com/blog/statistics-and-quality-data-analysis/t-for-2-should-i-use-a-paired-t-or-a-2-sample-t?fbclid=IwAR1UOzIPlHmuxBd3MzUzWQ23mYe3cezcUT6tPrhiMD2ki3saOvunW67uXdI\n",
    "\n",
    "\n",
    "- https://pythonfordatascience.org/paired-samples-t-test-python/?fbclid=IwAR0xwZ0vwfze0LIQtUjKcg7uNwNKmhxc9f6Pq5aeIfRP-YBdQMSb5itervk\n"
   ]
  }
 ],
 "metadata": {
  "kernelspec": {
   "display_name": "Python 3",
   "language": "python",
   "name": "python3"
  },
  "language_info": {
   "codemirror_mode": {
    "name": "ipython",
    "version": 3
   },
   "file_extension": ".py",
   "mimetype": "text/x-python",
   "name": "python",
   "nbconvert_exporter": "python",
   "pygments_lexer": "ipython3",
   "version": "3.6.5"
  }
 },
 "nbformat": 4,
 "nbformat_minor": 2
}
